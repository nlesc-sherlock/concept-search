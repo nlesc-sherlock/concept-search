{
 "cells": [
  {
   "cell_type": "markdown",
   "metadata": {},
   "source": [
    "# Getting the Enron dataset and indexing it in Elasticsearch\n",
    "\n",
    "In the concept search sub-project, we'll be working with the Enron email dataset. To implement query expansion algorithms, it is probably easiest to work directly with the raw text files on your hard disk. However, because some query expansion techniques require using search results, it is also convenient to have a copy of the data in a search engine. This notebook contains scripts to extract the dataset and indexing it in Elasticsearch. It also contains examples of how to query Elasticsearch. \n",
    "\n",
    "First, download the dataset from [OneDrive](https://nlesc.sharepoint.com/sites/sherlock/_layouts/15/Group.aspx?GroupId=6aad52c4-7dfc-4076-9772-4f9c9180bde2&AppId=Files&id=%2Fsites%2Fsherlock%2FShared%20Documents%2Fdatasets%2Fenron-plaintext) (choose enron_mail_clean.tar.gz).\n",
    "\n",
    "Next, update `f = ` and `out_dir =` to match where you downloaded the archive and where you want to extract the data to."
   ]
  },
  {
   "cell_type": "code",
   "execution_count": 5,
   "metadata": {
    "collapsed": true
   },
   "outputs": [],
   "source": [
    "import tarfile\n",
    "import os\n",
    "import sys\n",
    "\n",
    "f = '/home/jvdzwaan/Downloads/enron_mail_clean.tar.gz'\n",
    "out_dir = '/home/jvdzwaan/data'"
   ]
  },
  {
   "cell_type": "code",
   "execution_count": 1,
   "metadata": {
    "collapsed": false
   },
   "outputs": [],
   "source": [
    "# Extract text files \n",
    "def extract_documents(members):\n",
    "    for tarinfo in members:\n",
    "        p, t = os.path.split(tarinfo.name)\n",
    "        if p.endswith('all_documents'):\n",
    "            yield tarinfo\n",
    "\n",
    "tar = tarfile.open(f)\n",
    "tar.extractall(path=out_dir, members=extract_documents(tar))\n",
    "tar.close()"
   ]
  },
  {
   "cell_type": "code",
   "execution_count": 6,
   "metadata": {
    "collapsed": false
   },
   "outputs": [],
   "source": [
    "# convert data to json\n",
    "import json\n",
    "\n",
    "data_dir = os.path.join(out_dir, 'enron_mail_clean')\n",
    "\n",
    "dump_dir = os.path.join(out_dir, 'enron_email_clean_json')\n",
    "if not os.path.exists(dump_dir):\n",
    "    os.makedirs(dump_dir)\n",
    "\n",
    "for person in os.listdir(data_dir):\n",
    "    with open(os.path.join(dump_dir, person), 'w') as out_file:\n",
    "        document_dir = os.path.join(data_dir, person, 'all_documents')\n",
    "        for doc in os.listdir(document_dir):\n",
    "            with open(os.path.join(document_dir, doc), 'r') as f:\n",
    "                text = f.read()\n",
    "            a = { 'index' : { '_index' : 'enron', '_type' : 'email', '_id': '{}/{}'.format(person, doc)} }\n",
    "            out_file.write(json.dumps(a))\n",
    "            out_file.write('\\n')\n",
    "    \n",
    "            d = {'text': text}\n",
    "            out_file.write(json.dumps(d))\n",
    "            out_file.write('\\n')"
   ]
  },
  {
   "cell_type": "markdown",
   "metadata": {},
   "source": [
    "## Elasticsearch\n",
    "\n",
    "Install Elasticsearch ([instructions](https://www.elastic.co/guide/en/elasticsearch/guide/current/_installing_elasticsearch.html))\n",
    "\n",
    "Start Elasticsearch by typing `./bin/elasticsearch` in the directory where you installed it.\n",
    "\n",
    "More info on [getting started with Elasticsearch](https://github.com/NLeSC/kb/wiki/Elastic-%28Elasticsearch%29) (including links to useful plugins).\n",
    "\n",
    "Install the [Python Elasticsearch Client](http://elasticsearch-py.readthedocs.org/en/master/index.html):\n",
    "\n",
    "    pip install elasticsearch-py"
   ]
  },
  {
   "cell_type": "code",
   "execution_count": 1,
   "metadata": {
    "collapsed": true
   },
   "outputs": [],
   "source": [
    "from elasticsearch import Elasticsearch\n",
    "\n",
    "es = Elasticsearch()"
   ]
  },
  {
   "cell_type": "code",
   "execution_count": 7,
   "metadata": {
    "collapsed": false
   },
   "outputs": [
    {
     "data": {
      "text/plain": [
       "{u'acknowledged': True}"
      ]
     },
     "execution_count": 7,
     "metadata": {},
     "output_type": "execute_result"
    }
   ],
   "source": [
    "# create index\n",
    "\n",
    "config = {}\n",
    "config['settings'] = {\n",
    "    'analysis' : {\n",
    "        'analyzer': {\n",
    "            'default': {\n",
    "                'type':'standard',\n",
    "                'stopwords': '_english_',\n",
    "            }\n",
    "        }\n",
    "    }\n",
    "}\n",
    "\n",
    "config['mappings'] = { \n",
    "    'email': {\n",
    "        'properties': {\n",
    "            'text': {\n",
    "                'type': 'string', \n",
    "                'term_vector': 'with_positions_offsets_payloads'\n",
    "            },\n",
    "        }\n",
    "    }\n",
    "}\n",
    "es.indices.create(index='enron', body=config)"
   ]
  },
  {
   "cell_type": "code",
   "execution_count": 8,
   "metadata": {
    "collapsed": false
   },
   "outputs": [],
   "source": [
    "# index data\n",
    "for p in os.listdir(dump_dir):\n",
    "    with open(os.path.join(dump_dir, p), 'r') as f:\n",
    "         data = f.read()\n",
    "    \n",
    "    es.bulk(index='enron', doc_type='email', body=data)"
   ]
  },
  {
   "cell_type": "markdown",
   "metadata": {},
   "source": [
    "##Example Elasticsearch Queries\n",
    "\n",
    "More info:\n",
    "\n",
    "* [ES query DSL](https://www.elastic.co/guide/en/elasticsearch/reference/current/query-dsl.html)\n",
    "* [ES search API](http://elasticsearch-py.readthedocs.org/en/master/api.html#elasticsearch.Elasticsearch.search)"
   ]
  },
  {
   "cell_type": "code",
   "execution_count": 25,
   "metadata": {
    "collapsed": false
   },
   "outputs": [
    {
     "name": "stdout",
     "output_type": "stream",
     "text": [
      "Got 128103 Hits:\n"
     ]
    }
   ],
   "source": [
    "# match all\n",
    "query = {'query': {'match_all': {}}}\n",
    "res = es.search(index='enron', doc_type='email', body=query)\n",
    "\n",
    "print(\"Got %d Hits:\" % res['hits']['total'])\n",
    "\n",
    "#print json.dumps(res, indent=4, separators=(',', ': '))"
   ]
  },
  {
   "cell_type": "code",
   "execution_count": 26,
   "metadata": {
    "collapsed": false
   },
   "outputs": [
    {
     "name": "stdout",
     "output_type": "stream",
     "text": [
      "Got 4884 Hits:\n"
     ]
    }
   ],
   "source": [
    "# query string query (complex boolean queries possible. See: \n",
    "# https://www.elastic.co/guide/en/elasticsearch/reference/current/query-dsl-query-string-query.html)\n",
    "query = {\n",
    "    \"query\": {\n",
    "        \"query_string\": {\n",
    "            \"query\": \"(natural AND gas) OR industrial\"\n",
    "        }\n",
    "    }\n",
    "}\n",
    "res = es.search(index='enron', doc_type='email', body=query)\n",
    "\n",
    "print(\"Got %d Hits:\" % res['hits']['total'])\n",
    "\n",
    "#print json.dumps(res, indent=4, separators=(',', ': '))"
   ]
  },
  {
   "cell_type": "code",
   "execution_count": 27,
   "metadata": {
    "collapsed": false
   },
   "outputs": [
    {
     "name": "stdout",
     "output_type": "stream",
     "text": [
      "Got 3967 Hits:\n"
     ]
    }
   ],
   "source": [
    "# Term query\n",
    "# https://www.elastic.co/guide/en/elasticsearch/reference/current/query-dsl-term-query.html\n",
    "query = {\n",
    "    \"query\": {\n",
    "        \"term\" : { \"text\" : \"natural\" } \n",
    "    }\n",
    "}\n",
    "res = es.search(index='enron', doc_type='email', body=query)\n",
    "\n",
    "print(\"Got %d Hits:\" % res['hits']['total'])\n",
    "\n",
    "#print json.dumps(res, indent=4, separators=(',', ': '))"
   ]
  },
  {
   "cell_type": "code",
   "execution_count": 28,
   "metadata": {
    "collapsed": false
   },
   "outputs": [
    {
     "name": "stdout",
     "output_type": "stream",
     "text": [
      "Got 4884 Hits:\n"
     ]
    }
   ],
   "source": [
    "# significant terms aggregation \n",
    "# https://www.elastic.co/guide/en/elasticsearch/reference/current/search-aggregations-bucket-significantterms-aggregation.html\n",
    "query = {\n",
    "    \"query\": {\n",
    "        \"query_string\": {\n",
    "            \"query\": \"(natural AND gas) OR industrial\"\n",
    "        }\n",
    "    },\n",
    "    \"aggregations\" : {\n",
    "        \"significantTerms\" : {\n",
    "            \"significant_terms\" : { \"field\" : \"text\", \"size\": 15 }\n",
    "        }\n",
    "    }\n",
    "}\n",
    "res = es.search(index='enron', doc_type='email', body=query, size=0)\n",
    "\n",
    "print(\"Got %d Hits:\" % res['hits']['total'])\n",
    "\n",
    "#print json.dumps(res, indent=4, separators=(',', ': '))"
   ]
  },
  {
   "cell_type": "code",
   "execution_count": 29,
   "metadata": {
    "collapsed": false
   },
   "outputs": [],
   "source": [
    "# Delete enron index (uncomment if needed)\n",
    "#es.indices.delete(index='enron', ignore=[400, 404])"
   ]
  }
 ],
 "metadata": {
  "kernelspec": {
   "display_name": "Python 2",
   "language": "python",
   "name": "python2"
  },
  "language_info": {
   "codemirror_mode": {
    "name": "ipython",
    "version": 2
   },
   "file_extension": ".py",
   "mimetype": "text/x-python",
   "name": "python",
   "nbconvert_exporter": "python",
   "pygments_lexer": "ipython2",
   "version": "2.7.6"
  }
 },
 "nbformat": 4,
 "nbformat_minor": 0
}
